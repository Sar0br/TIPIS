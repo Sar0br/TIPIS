{
 "cells": [
  {
   "cell_type": "code",
   "execution_count": 12,
   "id": "ec3660c2-3c70-4aea-8638-a2ae2f0561bd",
   "metadata": {},
   "outputs": [],
   "source": [
    "import pandas as pd"
   ]
  },
  {
   "cell_type": "code",
   "execution_count": 13,
   "id": "5d66dd15-e35e-4e08-91e1-a9b2a9f855c3",
   "metadata": {},
   "outputs": [],
   "source": [
    "pd.set_option('display.max_columns',None)"
   ]
  },
  {
   "cell_type": "code",
   "execution_count": 14,
   "id": "76399b89-bbcb-430a-8cca-50b903f99052",
   "metadata": {},
   "outputs": [
    {
     "data": {
      "text/html": [
       "<div>\n",
       "<style scoped>\n",
       "    .dataframe tbody tr th:only-of-type {\n",
       "        vertical-align: middle;\n",
       "    }\n",
       "\n",
       "    .dataframe tbody tr th {\n",
       "        vertical-align: top;\n",
       "    }\n",
       "\n",
       "    .dataframe thead th {\n",
       "        text-align: right;\n",
       "    }\n",
       "</style>\n",
       "<table border=\"1\" class=\"dataframe\">\n",
       "  <thead>\n",
       "    <tr style=\"text-align: right;\">\n",
       "      <th></th>\n",
       "      <th>age</th>\n",
       "      <th>workclass</th>\n",
       "      <th>fnlwgt</th>\n",
       "      <th>education</th>\n",
       "      <th>education_num</th>\n",
       "      <th>marital_status</th>\n",
       "      <th>occupation</th>\n",
       "      <th>relationship</th>\n",
       "      <th>race</th>\n",
       "      <th>sex</th>\n",
       "      <th>capital_gain</th>\n",
       "      <th>capital_loss</th>\n",
       "      <th>hours_per_week</th>\n",
       "      <th>native_country</th>\n",
       "      <th>income</th>\n",
       "    </tr>\n",
       "  </thead>\n",
       "  <tbody>\n",
       "    <tr>\n",
       "      <th>0</th>\n",
       "      <td>39</td>\n",
       "      <td>State-gov</td>\n",
       "      <td>77516</td>\n",
       "      <td>Bachelors</td>\n",
       "      <td>13</td>\n",
       "      <td>Never-married</td>\n",
       "      <td>Adm-clerical</td>\n",
       "      <td>Not-in-family</td>\n",
       "      <td>White</td>\n",
       "      <td>Male</td>\n",
       "      <td>2174</td>\n",
       "      <td>0</td>\n",
       "      <td>40</td>\n",
       "      <td>United-States</td>\n",
       "      <td>&lt;=50K</td>\n",
       "    </tr>\n",
       "    <tr>\n",
       "      <th>1</th>\n",
       "      <td>50</td>\n",
       "      <td>Self-emp-not-inc</td>\n",
       "      <td>83311</td>\n",
       "      <td>Bachelors</td>\n",
       "      <td>13</td>\n",
       "      <td>Married-civ-spouse</td>\n",
       "      <td>Exec-managerial</td>\n",
       "      <td>Husband</td>\n",
       "      <td>White</td>\n",
       "      <td>Male</td>\n",
       "      <td>0</td>\n",
       "      <td>0</td>\n",
       "      <td>13</td>\n",
       "      <td>United-States</td>\n",
       "      <td>&lt;=50K</td>\n",
       "    </tr>\n",
       "    <tr>\n",
       "      <th>2</th>\n",
       "      <td>38</td>\n",
       "      <td>Private</td>\n",
       "      <td>215646</td>\n",
       "      <td>HS-grad</td>\n",
       "      <td>9</td>\n",
       "      <td>Divorced</td>\n",
       "      <td>Handlers-cleaners</td>\n",
       "      <td>Not-in-family</td>\n",
       "      <td>White</td>\n",
       "      <td>Male</td>\n",
       "      <td>0</td>\n",
       "      <td>0</td>\n",
       "      <td>40</td>\n",
       "      <td>United-States</td>\n",
       "      <td>&lt;=50K</td>\n",
       "    </tr>\n",
       "    <tr>\n",
       "      <th>3</th>\n",
       "      <td>53</td>\n",
       "      <td>Private</td>\n",
       "      <td>234721</td>\n",
       "      <td>11th</td>\n",
       "      <td>7</td>\n",
       "      <td>Married-civ-spouse</td>\n",
       "      <td>Handlers-cleaners</td>\n",
       "      <td>Husband</td>\n",
       "      <td>Black</td>\n",
       "      <td>Male</td>\n",
       "      <td>0</td>\n",
       "      <td>0</td>\n",
       "      <td>40</td>\n",
       "      <td>United-States</td>\n",
       "      <td>&lt;=50K</td>\n",
       "    </tr>\n",
       "    <tr>\n",
       "      <th>4</th>\n",
       "      <td>28</td>\n",
       "      <td>Private</td>\n",
       "      <td>338409</td>\n",
       "      <td>Bachelors</td>\n",
       "      <td>13</td>\n",
       "      <td>Married-civ-spouse</td>\n",
       "      <td>Prof-specialty</td>\n",
       "      <td>Wife</td>\n",
       "      <td>Black</td>\n",
       "      <td>Female</td>\n",
       "      <td>0</td>\n",
       "      <td>0</td>\n",
       "      <td>40</td>\n",
       "      <td>Cuba</td>\n",
       "      <td>&lt;=50K</td>\n",
       "    </tr>\n",
       "  </tbody>\n",
       "</table>\n",
       "</div>"
      ],
      "text/plain": [
       "   age          workclass  fnlwgt   education  education_num  \\\n",
       "0   39          State-gov   77516   Bachelors             13   \n",
       "1   50   Self-emp-not-inc   83311   Bachelors             13   \n",
       "2   38            Private  215646     HS-grad              9   \n",
       "3   53            Private  234721        11th              7   \n",
       "4   28            Private  338409   Bachelors             13   \n",
       "\n",
       "        marital_status          occupation    relationship    race      sex  \\\n",
       "0        Never-married        Adm-clerical   Not-in-family   White     Male   \n",
       "1   Married-civ-spouse     Exec-managerial         Husband   White     Male   \n",
       "2             Divorced   Handlers-cleaners   Not-in-family   White     Male   \n",
       "3   Married-civ-spouse   Handlers-cleaners         Husband   Black     Male   \n",
       "4   Married-civ-spouse      Prof-specialty            Wife   Black   Female   \n",
       "\n",
       "   capital_gain  capital_loss  hours_per_week  native_country  income  \n",
       "0          2174             0              40   United-States   <=50K  \n",
       "1             0             0              13   United-States   <=50K  \n",
       "2             0             0              40   United-States   <=50K  \n",
       "3             0             0              40   United-States   <=50K  \n",
       "4             0             0              40            Cuba   <=50K  "
      ]
     },
     "execution_count": 14,
     "metadata": {},
     "output_type": "execute_result"
    }
   ],
   "source": [
    "df = pd.read_csv('adult.data', header=None)\n",
    "df.columns = ['age', 'workclass', 'fnlwgt', \n",
    "              'education', 'education_num', \n",
    "              'marital_status', 'occupation', \n",
    "              'relationship', 'race', 'sex', \n",
    "              'capital_gain', 'capital_loss', \n",
    "              'hours_per_week', 'native_country', \n",
    "              'income']\n",
    "df.head()"
   ]
  },
  {
   "cell_type": "markdown",
   "id": "f5b834a8-34f2-46e3-ac7b-fcb0e5dc3862",
   "metadata": {},
   "source": [
    "<b>Число столбцов в наборе данных?</b>"
   ]
  },
  {
   "cell_type": "code",
   "execution_count": 15,
   "id": "f3e7f35e-231c-43eb-849b-06c229ff25a4",
   "metadata": {},
   "outputs": [
    {
     "name": "stdout",
     "output_type": "stream",
     "text": [
      "Ответ: 15\n"
     ]
    }
   ],
   "source": [
    "print('Ответ:', len(df.columns))"
   ]
  },
  {
   "cell_type": "markdown",
   "id": "1a65c7b8-cc54-418d-b1ac-2b79a8261287",
   "metadata": {},
   "source": [
    "<b>Есть ли пропуски в данных? Если есть, то в каких столбцах?</b>"
   ]
  },
  {
   "cell_type": "code",
   "execution_count": 16,
   "id": "d19541d3-56f2-4fbb-806c-59445660acd9",
   "metadata": {},
   "outputs": [
    {
     "name": "stdout",
     "output_type": "stream",
     "text": [
      "<class 'pandas.core.frame.DataFrame'>\n",
      "RangeIndex: 32561 entries, 0 to 32560\n",
      "Data columns (total 15 columns):\n",
      " #   Column          Non-Null Count  Dtype \n",
      "---  ------          --------------  ----- \n",
      " 0   age             32561 non-null  int64 \n",
      " 1   workclass       32561 non-null  object\n",
      " 2   fnlwgt          32561 non-null  int64 \n",
      " 3   education       32561 non-null  object\n",
      " 4   education_num   32561 non-null  int64 \n",
      " 5   marital_status  32561 non-null  object\n",
      " 6   occupation      32561 non-null  object\n",
      " 7   relationship    32561 non-null  object\n",
      " 8   race            32561 non-null  object\n",
      " 9   sex             32561 non-null  object\n",
      " 10  capital_gain    32561 non-null  int64 \n",
      " 11  capital_loss    32561 non-null  int64 \n",
      " 12  hours_per_week  32561 non-null  int64 \n",
      " 13  native_country  32561 non-null  object\n",
      " 14  income          32561 non-null  object\n",
      "dtypes: int64(6), object(9)\n",
      "memory usage: 3.7+ MB\n"
     ]
    }
   ],
   "source": [
    "df.info()"
   ]
  },
  {
   "cell_type": "code",
   "execution_count": 17,
   "id": "e9f097fb-fc2a-4797-849b-2f157b0c4c9a",
   "metadata": {},
   "outputs": [
    {
     "name": "stdout",
     "output_type": "stream",
     "text": [
      "Ответ: Пустых значений нет.\n"
     ]
    }
   ],
   "source": [
    "print('Ответ: Пустых значений нет.')"
   ]
  },
  {
   "cell_type": "markdown",
   "id": "8df0469e-0782-4eb7-8d21-758a2b4191cf",
   "metadata": {},
   "source": [
    "<b>Кол-во уникальных значений в столбце race?</b>"
   ]
  },
  {
   "cell_type": "code",
   "execution_count": 18,
   "id": "75889a02-a428-43a8-a00f-9fdad806bcd1",
   "metadata": {},
   "outputs": [
    {
     "name": "stdout",
     "output_type": "stream",
     "text": [
      "Ответ: 5\n"
     ]
    }
   ],
   "source": [
    "print('Ответ:', len(df['race'].unique()))"
   ]
  },
  {
   "cell_type": "markdown",
   "id": "234324c1-bebe-402f-80a0-121d29cc6d04",
   "metadata": {},
   "source": [
    "<b>Медиана hours-per-week?</b>"
   ]
  },
  {
   "cell_type": "code",
   "execution_count": 19,
   "id": "7ebd7a29-d85b-4e4f-bed2-767aefe1a202",
   "metadata": {},
   "outputs": [
    {
     "name": "stdout",
     "output_type": "stream",
     "text": [
      "Ответ: 40.0\n"
     ]
    }
   ],
   "source": [
    "print('Ответ:', (df['hours_per_week'].median()))"
   ]
  },
  {
   "cell_type": "markdown",
   "id": "50dbbf17-ad51-463f-b2f3-e170ff7ed361",
   "metadata": {},
   "source": [
    "<b>Кого больше - женщин или мужчин с ЗП >50K?</b>"
   ]
  },
  {
   "cell_type": "code",
   "execution_count": 20,
   "id": "120e0c6e-22d4-4094-9a34-48d8ce0cedb3",
   "metadata": {
    "scrolled": true
   },
   "outputs": [
    {
     "name": "stdout",
     "output_type": "stream",
     "text": [
      "Количество мужчин:  6662\n",
      "Количество женщин:  1179\n",
      "Ответ: Мужчин\n"
     ]
    }
   ],
   "source": [
    "income = df['income'] == ' >50K'\n",
    "men = df[income]['sex'].value_counts()[' Male']\n",
    "print('Количество мужчин: ', men)\n",
    "women = df[income]['sex'].value_counts()[' Female']\n",
    "print('Количество женщин: ', women)\n",
    "if men>women:\n",
    "    print('Ответ: Мужчин')\n",
    "elif women>men:\n",
    "    print('Ответ: Женщин')\n",
    "else:\n",
    "    print('Одинаково')"
   ]
  },
  {
   "cell_type": "markdown",
   "id": "e0144d8c-4dd8-46e2-bd8b-8c52ef5bda71",
   "metadata": {},
   "source": [
    "<b>Заполните пропущенные данные в отдельных столбцах наиболее встречаемыми значениями. Как еще можно было бы заполнить пропущенные данные?</b>"
   ]
  },
  {
   "cell_type": "markdown",
   "id": "42b01824-ddd7-471a-ac8c-e0bbc40c096d",
   "metadata": {},
   "source": [
    "Находим в трех столбцах: age, workclass и education наиболее встречаемые значения. И заменяем пропуски в столбцах на эти значения. "
   ]
  },
  {
   "cell_type": "code",
   "execution_count": 21,
   "id": "645304de-0055-4299-9a71-3ea0ad97564a",
   "metadata": {},
   "outputs": [
    {
     "name": "stdout",
     "output_type": "stream",
     "text": [
      "Наиболее встречаемое значение в столбце  age :  36\n",
      "Наиболее встречаемое значение в столбце  workclass :   Private\n",
      "Наиболее встречаемое значение в столбце  education :   HS-grad\n"
     ]
    }
   ],
   "source": [
    "ex6 = ['age', 'workclass', 'education']\n",
    "for col in ex6:\n",
    "    mode_value = df[col].mode().values[0]\n",
    "    print('Наиболее встречаемое значение в столбце ', col, ': ', mode_value)\n",
    "    df.replace({col: ' '}, mode_value, inplace=True)"
   ]
  },
  {
   "cell_type": "markdown",
   "id": "030c026f-1f99-4e75-9c5e-20f5a609900d",
   "metadata": {},
   "source": [
    "Изменений не произошло. Проверим, есть ли пропуски в данных."
   ]
  },
  {
   "cell_type": "markdown",
   "id": "709e1785-e046-4f59-8dac-b3cefb3ad8a6",
   "metadata": {},
   "source": [
    "Проверка на пропуски:"
   ]
  },
  {
   "cell_type": "code",
   "execution_count": 23,
   "id": "914de663-4494-4d70-8ffe-43798753e6ed",
   "metadata": {
    "scrolled": true
   },
   "outputs": [
    {
     "name": "stdout",
     "output_type": "stream",
     "text": [
      "age               0\n",
      "workclass         0\n",
      "fnlwgt            0\n",
      "education         0\n",
      "education_num     0\n",
      "marital_status    0\n",
      "occupation        0\n",
      "relationship      0\n",
      "race              0\n",
      "sex               0\n",
      "capital_gain      0\n",
      "capital_loss      0\n",
      "hours_per_week    0\n",
      "native_country    0\n",
      "income            0\n",
      "dtype: int64\n"
     ]
    }
   ],
   "source": [
    "print(df.isnull().sum())"
   ]
  },
  {
   "cell_type": "markdown",
   "id": "1a7dad10-fedb-475f-9b82-85815004671a",
   "metadata": {},
   "source": [
    "Пропусков нет. Изменений не произойдет."
   ]
  },
  {
   "cell_type": "markdown",
   "id": "c31435a5-03fd-422b-a813-1b9c29d3032b",
   "metadata": {},
   "source": [
    "Пустые пропуски в данных можно заполнять различными способами, в зависимости от контекста и типа данных. Например: среднее значение, медиана, константа, интерполяция, предыдущие/следующие значения и тому подобное. "
   ]
  }
 ],
 "metadata": {
  "kernelspec": {
   "display_name": "Python 3 (ipykernel)",
   "language": "python",
   "name": "python3"
  },
  "language_info": {
   "codemirror_mode": {
    "name": "ipython",
    "version": 3
   },
   "file_extension": ".py",
   "mimetype": "text/x-python",
   "name": "python",
   "nbconvert_exporter": "python",
   "pygments_lexer": "ipython3",
   "version": "3.12.1"
  }
 },
 "nbformat": 4,
 "nbformat_minor": 5
}
