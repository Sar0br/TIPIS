{
 "cells": [
  {
   "cell_type": "markdown",
   "id": "ca202b55-c2a9-4832-a458-1fa77a0526ff",
   "metadata": {},
   "source": [
    "<h2>Подготовка набора данных</h2>"
   ]
  },
  {
   "cell_type": "code",
   "execution_count": 1,
   "id": "284372c4-f66a-4144-a6e0-6527a1d5977b",
   "metadata": {},
   "outputs": [],
   "source": [
    "import numpy as np\n",
    "import pandas as pd\n",
    "import sklearn as sk"
   ]
  },
  {
   "cell_type": "code",
   "execution_count": 2,
   "id": "47a6a47c-093f-44ad-a80a-d4139a493664",
   "metadata": {},
   "outputs": [],
   "source": [
    "df_all = pd.read_csv(\"bank.csv\", sep=\";\")"
   ]
  },
  {
   "cell_type": "code",
   "execution_count": 3,
   "id": "dc406a74-dcd0-42f3-8b8e-217ee90ac2b9",
   "metadata": {
    "collapsed": true,
    "jupyter": {
     "outputs_hidden": true
    },
    "scrolled": true
   },
   "outputs": [
    {
     "name": "stderr",
     "output_type": "stream",
     "text": [
      "C:\\Users\\Maria\\AppData\\Local\\Temp\\ipykernel_4712\\3783561151.py:2: SettingWithCopyWarning: \n",
      "A value is trying to be set on a copy of a slice from a DataFrame.\n",
      "Try using .loc[row_indexer,col_indexer] = value instead\n",
      "\n",
      "See the caveats in the documentation: https://pandas.pydata.org/pandas-docs/stable/user_guide/indexing.html#returning-a-view-versus-a-copy\n",
      "  df['y'] = df['y'].map({'yes': 1, 'no': 0})\n"
     ]
    }
   ],
   "source": [
    "df = df_all[['age', 'job', 'marital','education','balance','housing','contact','day','month','duration','campaign','pdays','previous','poutcome','y']]\n",
    "df['y'] = df['y'].map({'yes': 1, 'no': 0})"
   ]
  },
  {
   "cell_type": "code",
   "execution_count": 4,
   "id": "e97ecd48-1984-4c0d-b655-2580422a588a",
   "metadata": {},
   "outputs": [],
   "source": [
    "from sklearn.model_selection import train_test_split\n",
    "X = df.drop(\"y\", axis = 1)\n",
    "y = df[[\"y\"]]\n",
    "X_train, X_temp, y_train, y_temp = train_test_split(X, y, test_size=0.4, random_state=1)\n",
    "X_val, X_test, y_val, y_test = train_test_split(X_temp, y_temp, test_size=0.5, random_state=1)\n",
    "\n",
    "X_train.reset_index(drop=True, inplace=True)\n",
    "X_val.reset_index(drop=True, inplace=True)\n",
    "X_test.reset_index(drop=True, inplace=True)"
   ]
  },
  {
   "cell_type": "markdown",
   "id": "dbb3b72a-a0bc-45a6-9b0b-e222b8c74d9a",
   "metadata": {},
   "source": [
    "<h2>Вопрос 1: Какая числовая переменная (из следующих 4) имеет наивысший AUC?</h2>"
   ]
  },
  {
   "cell_type": "code",
   "execution_count": 5,
   "id": "8d427895-2da1-427f-8baf-2a34c9cd8194",
   "metadata": {},
   "outputs": [
    {
     "name": "stdout",
     "output_type": "stream",
     "text": [
      "[('y', np.float64(1.0)), ('duration', np.float64(0.815007197696737)), ('previous', np.float64(0.6001859404990403)), ('pdays', np.float64(0.59103886756238)), ('balance', np.float64(0.5713865163147792)), ('campaign', np.float64(0.5560083973128599)), ('age', np.float64(0.5147024952015355)), ('day', np.float64(0.5106698656429942))]\n"
     ]
    }
   ],
   "source": [
    "from sklearn.metrics import roc_auc_score\n",
    "numerical_features = df.select_dtypes(include = [\"int\", \"float\"]).columns\n",
    "auc_scores = {}\n",
    "\n",
    "for feature in numerical_features:\n",
    "  auc = roc_auc_score(df[\"y\"], df[feature])\n",
    "  if auc < 0.5:\n",
    "    auc = roc_auc_score(df[\"y\"], -df[feature])\n",
    "  auc_scores[feature] = auc\n",
    "\n",
    "auc_scores = sorted(auc_scores.items(), key=lambda x: x[1], reverse = True)\n",
    "print(auc_scores)"
   ]
  },
  {
   "cell_type": "markdown",
   "id": "84ff50e0-94c2-4ff4-87b8-8770cffd888c",
   "metadata": {
    "jp-MarkdownHeadingCollapsed": true
   },
   "source": [
    "<p>Ответ: duration</p>"
   ]
  },
  {
   "cell_type": "markdown",
   "id": "e66c39de-3bda-44b8-bd43-c016ded07b19",
   "metadata": {},
   "source": [
    "<h2>Вопрос 2: Какой AUC у этой модели на валидационном наборе данных?</h2>"
   ]
  },
  {
   "cell_type": "code",
   "execution_count": 7,
   "id": "0f698729-75c3-4845-9254-e488f8051d6f",
   "metadata": {
    "scrolled": true
   },
   "outputs": [
    {
     "name": "stderr",
     "output_type": "stream",
     "text": [
      "E:\\labpycharm\\pythonProject3\\.venv\\Lib\\site-packages\\sklearn\\utils\\validation.py:1339: DataConversionWarning: A column-vector y was passed when a 1d array was expected. Please change the shape of y to (n_samples, ), for example using ravel().\n",
      "  y = column_or_1d(y, warn=True)\n"
     ]
    },
    {
     "name": "stdout",
     "output_type": "stream",
     "text": [
      "0.8565962544618846\n"
     ]
    }
   ],
   "source": [
    "from sklearn.linear_model import LogisticRegression\n",
    "from sklearn.feature_extraction import DictVectorizer\n",
    "from sklearn.metrics import roc_auc_score\n",
    "# Преобразуем данные в формат словарей для DictVectorizer\n",
    "train_dict = X_train.to_dict(orient='records')\n",
    "val_dict = X_val.to_dict(orient='records')\n",
    "\n",
    "# Применяем one-hot encoding\n",
    "dv = DictVectorizer(sparse=False)\n",
    "X_train = dv.fit_transform(train_dict)\n",
    "X_val = dv.transform(val_dict)\n",
    "\n",
    "# Обучение модели логистической регрессии\n",
    "model = LogisticRegression(solver='liblinear', C=1.0, max_iter=1000)\n",
    "model.fit(X_train, y_train)\n",
    "\n",
    "# Оценка модели на валидационном наборе данных\n",
    "y_pred = model.predict_proba(X_val)[:, 1]\n",
    "roc_auc = roc_auc_score(y_val, y_pred)\n",
    "\n",
    "print(roc_auc)"
   ]
  },
  {
   "cell_type": "markdown",
   "id": "98d09a48-092d-4dba-b73c-78d103c97b2f",
   "metadata": {},
   "source": [
    "<p>Ответ: 0,89</p>"
   ]
  },
  {
   "cell_type": "markdown",
   "id": "096c0afa-83cd-49b2-8db7-642bbcd73d35",
   "metadata": {},
   "source": [
    "<h2>Вопрос 3: На каком пороге precision и recall пересекаются?</h2>\n",
    "<h2>Вопрос 4: При каком пороге F1 достигает максимума?</h2>"
   ]
  },
  {
   "cell_type": "code",
   "execution_count": 8,
   "id": "9db2bb4a-5b5a-40d9-ba99-2d50a4efef7f",
   "metadata": {},
   "outputs": [
    {
     "name": "stderr",
     "output_type": "stream",
     "text": [
      "C:\\Users\\Maria\\AppData\\Local\\Temp\\ipykernel_4712\\1017861794.py:19: RuntimeWarning: invalid value encountered in scalar divide\n",
      "  F1.append(round(2*(precision*recall/(precision+recall)), 2))\n",
      "C:\\Users\\Maria\\AppData\\Local\\Temp\\ipykernel_4712\\1017861794.py:19: RuntimeWarning: invalid value encountered in scalar divide\n",
      "  F1.append(round(2*(precision*recall/(precision+recall)), 2))\n",
      "C:\\Users\\Maria\\AppData\\Local\\Temp\\ipykernel_4712\\1017861794.py:19: RuntimeWarning: invalid value encountered in scalar divide\n",
      "  F1.append(round(2*(precision*recall/(precision+recall)), 2))\n"
     ]
    },
    {
     "name": "stdout",
     "output_type": "stream",
     "text": [
      "порог максимума: 0.1 max F1: 0.47\n"
     ]
    },
    {
     "data": {
      "image/png": "[encoded data removed]",
      "text/plain": [
       "<Figure size 1000x600 with 1 Axes>"
      ]
     },
     "metadata": {},
     "output_type": "display_data"
    },
    {
     "name": "stdout",
     "output_type": "stream",
     "text": [
      "Пересечение: 0.27\n"
     ]
    }
   ],
   "source": [
    "import matplotlib.pyplot as plt\n",
    "from sklearn.metrics import precision_score, recall_score\n",
    "\n",
    "y_pred_prob = model.predict_proba(X_val)[:, 1]\n",
    "\n",
    "thresholds = np.arange(0.0, 1.01, 0.01)\n",
    "precisions = []\n",
    "recalls = []\n",
    "F1 = []\n",
    "\n",
    "for threshold in thresholds:\n",
    "    y_pred = (y_pred_prob >= threshold).astype(int)\n",
    "\n",
    "    precision = precision_score(y_val, y_pred, zero_division=0)\n",
    "    recall = recall_score(y_val, y_pred, zero_division=0)\n",
    "\n",
    "    precisions.append(precision)\n",
    "    recalls.append(recall)\n",
    "    F1.append(round(2*(precision*recall/(precision+recall)), 2))\n",
    "\n",
    "print(\"порог максимума:\", F1.index(max(F1))/100, \"max F1:\", max(F1))\n",
    "plt.figure(figsize=(10, 6))\n",
    "plt.plot(thresholds, precisions, label='Precision', marker='o')\n",
    "plt.plot(thresholds, recalls, label='Recall', marker='o')\n",
    "plt.xlabel('Threshold')\n",
    "plt.ylabel('Score')\n",
    "plt.title('Precision and Recall vs Threshold')\n",
    "plt.legend()\n",
    "plt.grid(True)\n",
    "plt.show()\n",
    "\n",
    "for i in range(len(thresholds)):\n",
    "    if np.isclose(precisions[i], recalls[i], atol=0.01):\n",
    "        print(f\"Пересечение: {thresholds[i]:.2f}\")\n",
    "        break\n"
   ]
  },
  {
   "cell_type": "markdown",
   "id": "d89619dd-1cbf-45ba-a6a2-89d7f193c46b",
   "metadata": {},
   "source": [
    "<p>Вопрос 3. Ответ: 0.265</p>"
   ]
  },
  {
   "cell_type": "markdown",
   "id": "8eeb80ba-7e0d-495e-b32f-623d3c73ae3b",
   "metadata": {},
   "source": [
    "<p>Вопрос 4. Ответ: 0.42</p>"
   ]
  },
  {
   "cell_type": "markdown",
   "id": "12bcbdc5-a986-47fc-add2-c7b0aadf4183",
   "metadata": {},
   "source": [
    "<h2>Вопрос 5: Какова стандартная ошибка оценок на разных фолдах?</h2>"
   ]
  },
  {
   "cell_type": "code",
   "execution_count": 13,
   "id": "99b66190-ed26-40c4-8287-b9fab77a5c1d",
   "metadata": {},
   "outputs": [
    {
     "name": "stderr",
     "output_type": "stream",
     "text": [
      "E:\\labpycharm\\pythonProject3\\.venv\\Lib\\site-packages\\sklearn\\utils\\validation.py:1339: DataConversionWarning: A column-vector y was passed when a 1d array was expected. Please change the shape of y to (n_samples, ), for example using ravel().\n",
      "  y = column_or_1d(y, warn=True)\n",
      "E:\\labpycharm\\pythonProject3\\.venv\\Lib\\site-packages\\sklearn\\utils\\validation.py:1339: DataConversionWarning: A column-vector y was passed when a 1d array was expected. Please change the shape of y to (n_samples, ), for example using ravel().\n",
      "  y = column_or_1d(y, warn=True)\n"
     ]
    },
    {
     "name": "stdout",
     "output_type": "stream",
     "text": [
      "AUC на текущем фолде: 0.882\n",
      "AUC на текущем фолде: 0.867\n"
     ]
    },
    {
     "name": "stderr",
     "output_type": "stream",
     "text": [
      "E:\\labpycharm\\pythonProject3\\.venv\\Lib\\site-packages\\sklearn\\utils\\validation.py:1339: DataConversionWarning: A column-vector y was passed when a 1d array was expected. Please change the shape of y to (n_samples, ), for example using ravel().\n",
      "  y = column_or_1d(y, warn=True)\n",
      "E:\\labpycharm\\pythonProject3\\.venv\\Lib\\site-packages\\sklearn\\utils\\validation.py:1339: DataConversionWarning: A column-vector y was passed when a 1d array was expected. Please change the shape of y to (n_samples, ), for example using ravel().\n",
      "  y = column_or_1d(y, warn=True)\n"
     ]
    },
    {
     "name": "stdout",
     "output_type": "stream",
     "text": [
      "AUC на текущем фолде: 0.912\n",
      "AUC на текущем фолде: 0.851\n",
      "AUC на текущем фолде: 0.899\n",
      "\n",
      "Среднее значение AUC по всем фолдам: 0.882\n",
      "Стандартное отклонение AUC по всем фолдам: 0.022\n",
      "Стандартная ошибка AUC: 0.010\n"
     ]
    },
    {
     "name": "stderr",
     "output_type": "stream",
     "text": [
      "E:\\labpycharm\\pythonProject3\\.venv\\Lib\\site-packages\\sklearn\\utils\\validation.py:1339: DataConversionWarning: A column-vector y was passed when a 1d array was expected. Please change the shape of y to (n_samples, ), for example using ravel().\n",
      "  y = column_or_1d(y, warn=True)\n"
     ]
    }
   ],
   "source": [
    "from sklearn.model_selection import KFold\n",
    "from sklearn.metrics import roc_auc_score\n",
    "from sklearn.feature_extraction import DictVectorizer\n",
    "from sklearn.linear_model import LogisticRegression\n",
    "import numpy as np\n",
    "\n",
    "kf = KFold(n_splits=5, shuffle=True, random_state=1)\n",
    "\n",
    "auc_scores = []\n",
    "\n",
    "for train_index, val_index in kf.split(X_train):\n",
    "    if isinstance(X_train, np.ndarray):\n",
    "        X_train_fold, X_val_fold = X_train[train_index], X_train[val_index]\n",
    "    else:\n",
    "        X_train_fold, X_val_fold = X_train.iloc[train_index], X_train.iloc[val_index]\n",
    "    \n",
    "    if isinstance(y_train, np.ndarray):\n",
    "        y_train_fold, y_val_fold = y_train[train_index], y_train[val_index]\n",
    "    else:\n",
    "        y_train_fold, y_val_fold = y_train.iloc[train_index], y_train.iloc[val_index]\n",
    "\n",
    "    if isinstance(X_train_fold, np.ndarray):\n",
    "        train_dict = [dict(zip(range(X_train_fold.shape[1]), row)) for row in X_train_fold]\n",
    "        val_dict = [dict(zip(range(X_val_fold.shape[1]), row)) for row in X_val_fold]\n",
    "    else:\n",
    "        train_dict = X_train_fold.to_dict(orient='records')\n",
    "        val_dict = X_val_fold.to_dict(orient='records')\n",
    "\n",
    "    dv = DictVectorizer(sparse=False)\n",
    "    X_train_encoded = dv.fit_transform(train_dict)\n",
    "    X_val_encoded = dv.transform(val_dict)\n",
    "\n",
    "    model = LogisticRegression(solver='liblinear', C=1.0, max_iter=1000)\n",
    "    model.fit(X_train_encoded, y_train_fold)\n",
    "\n",
    "    y_pred = model.predict_proba(X_val_encoded)[:, 1]\n",
    "\n",
    "    auc = roc_auc_score(y_val_fold, y_pred)\n",
    "    auc_scores.append(auc)\n",
    "\n",
    "    print(f\"AUC на текущем фолде: {auc:.3f}\")\n",
    "\n",
    "mean_auc = np.mean(auc_scores)\n",
    "std_auc = np.std(auc_scores)\n",
    "\n",
    "se_auc = std_auc / np.sqrt(len(auc_scores))\n",
    "\n",
    "print(f\"\\nСреднее значение AUC по всем фолдам: {mean_auc:.3f}\")\n",
    "print(f\"Стандартное отклонение AUC по всем фолдам: {std_auc:.3f}\")\n",
    "print(f\"Стандартная ошибка AUC: {se_auc:.3f}\")"
   ]
  },
  {
   "cell_type": "markdown",
   "id": "7745d085-b320-4f6d-a98e-97f1ec1274cc",
   "metadata": {},
   "source": [
    "<p>Ответ: 0,06 </p>"
   ]
  },
  {
   "cell_type": "markdown",
   "id": "c01b9b7c-ec76-42e5-94e0-e84af1ad7f7f",
   "metadata": {},
   "source": [
    "<h2>Вопрос 6: Какое значение C приводит к лучшему среднему значению?</h2>"
   ]
  },
  {
   "cell_type": "code",
   "execution_count": 14,
   "id": "53995a5f-8537-41d1-b4d3-9df7d9fd86f1",
   "metadata": {},
   "outputs": [
    {
     "name": "stdout",
     "output_type": "stream",
     "text": [
      "C=1e-06: mean=0.874, std=0.024\n",
      "C=0.001: mean=0.896, std=0.024\n",
      "C=1: mean=0.905, std=0.018\n",
      "Лучшее значение C: 1, средняя оценка: 0.905, стандартное отклонение: 0.018\n"
     ]
    }
   ],
   "source": [
    "import pandas as pd\n",
    "from sklearn.model_selection import train_test_split, KFold, cross_val_score\n",
    "from sklearn.linear_model import LogisticRegression\n",
    "from sklearn.preprocessing import StandardScaler\n",
    "from sklearn.pipeline import Pipeline\n",
    "import numpy as np\n",
    "\n",
    "# Загрузите данные\n",
    "data = pd.read_csv('bank.csv', sep=';')\n",
    "\n",
    "# Оставьте только нужные столбцы\n",
    "columns_to_keep = [\n",
    "    'age', 'job', 'marital', 'education', 'balance', 'housing', 'contact',\n",
    "    'day', 'month', 'duration', 'campaign', 'pdays', 'previous', 'poutcome', 'y'\n",
    "]\n",
    "data = data[columns_to_keep]\n",
    "\n",
    "# Преобразование целевой переменной в числовой формат\n",
    "data['y'] = data['y'].apply(lambda x: 1 if x == 'yes' else 0)\n",
    "\n",
    "# Преобразование категориальных признаков в числовой формат с помощью one-hot encoding\n",
    "data = pd.get_dummies(data, columns=['job', 'marital', 'education', 'housing', 'contact', 'month', 'poutcome'])\n",
    "\n",
    "# Разделение признаков и целевой переменной\n",
    "X = data.drop(columns=['y'])\n",
    "y = data['y']\n",
    "\n",
    "# Разделение на обучающую (60%) и промежуточную (40%) выборки\n",
    "X_train, X_temp, y_train, y_temp = train_test_split(X, y, test_size=0.4, random_state=1)\n",
    "\n",
    "# Разделение промежуточной выборки на валидационную (20%) и тестовую (20%) выборки\n",
    "X_val, X_test, y_val, y_test = train_test_split(X_temp, y_temp, test_size=0.5, random_state=1)\n",
    "\n",
    "# Инициализация KFold\n",
    "kfold = KFold(n_splits=5, shuffle=True, random_state=1)\n",
    "\n",
    "# Список значений C для перебора\n",
    "C_values = [0.000001, 0.001, 1]\n",
    "\n",
    "# Переменные для хранения лучших значений\n",
    "best_C = None\n",
    "best_mean_score = -np.inf\n",
    "best_std = np.inf\n",
    "\n",
    "# Перебор значений C\n",
    "for C in C_values:\n",
    "    # Создаем пайплайн с масштабированием и логистической регрессией\n",
    "    model = Pipeline([\n",
    "        ('scaler', StandardScaler()),\n",
    "        ('log_reg', LogisticRegression(solver='liblinear', C=C, max_iter=1000))\n",
    "    ])\n",
    "\n",
    "    # Кросс-валидация\n",
    "    scores = cross_val_score(model, X_train, y_train, cv=kfold, scoring='accuracy')\n",
    "    mean_score = round(scores.mean(), 3)\n",
    "    std_score = round(scores.std(), 3)\n",
    "\n",
    "    print(f'C={C}: mean={mean_score}, std={std_score}')\n",
    "\n",
    "    # Проверяем, является ли текущее значение лучшим\n",
    "    if mean_score > best_mean_score or (mean_score == best_mean_score and std_score < best_std):\n",
    "        best_C = C\n",
    "        best_mean_score = mean_score\n",
    "        best_std = std_score\n",
    "\n",
    "print(f'Лучшее значение C: {best_C}, средняя оценка: {best_mean_score}, стандартное отклонение: {best_std}')\n"
   ]
  },
  {
   "cell_type": "markdown",
   "id": "7de8024a-ac09-48ef-9562-5ec54d95964e",
   "metadata": {},
   "source": [
    "<p>Ответ: 1</p>"
   ]
  },
  {
   "cell_type": "markdown",
   "id": "04a22b4b-741d-477a-9520-8783fe4f5e5c",
   "metadata": {},
   "source": [
    "<h2>Ответы</h2>"
   ]
  },
  {
   "cell_type": "markdown",
   "id": "03b83cd2-3424-4561-aa5a-00ca0c7538fb",
   "metadata": {},
   "source": [
    "1. duration\n",
    "2. 0,89\n",
    "3. 0,265\n",
    "4. 0,42\n",
    "5. 0,06\n",
    "6. 1"
   ]
  },
  {
   "cell_type": "code",
   "execution_count": null,
   "id": "074cfc9c-f6bc-43c6-bb91-318acd3c04a6",
   "metadata": {},
   "outputs": [],
   "source": []
  }
 ],
 "metadata": {
  "kernelspec": {
   "display_name": "Python 3 (ipykernel)",
   "language": "python",
   "name": "python3"
  },
  "language_info": {
   "codemirror_mode": {
    "name": "ipython",
    "version": 3
   },
   "file_extension": ".py",
   "mimetype": "text/x-python",
   "name": "python",
   "nbconvert_exporter": "python",
   "pygments_lexer": "ipython3",
   "version": "3.12.1"
  }
 },
 "nbformat": 4,
 "nbformat_minor": 5
}
