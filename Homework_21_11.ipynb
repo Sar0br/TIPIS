{
 "cells": [
  {
   "cell_type": "markdown",
   "id": "b8d5954d-e41d-4853-9b38-ff0cb7435dc7",
   "metadata": {},
   "source": [
    "<h2>Подготовка датасета</h2>"
   ]
  },
  {
   "cell_type": "code",
   "execution_count": 1,
   "id": "d7d1e473-297f-443e-9303-4b5a731b1e1c",
   "metadata": {},
   "outputs": [],
   "source": [
    "import pandas as pd\n",
    "from sklearn.model_selection import train_test_split\n",
    "from sklearn.feature_extraction import DictVectorizer\n",
    "from sklearn.tree import DecisionTreeRegressor\n",
    "from sklearn.metrics import mean_squared_error"
   ]
  },
  {
   "cell_type": "code",
   "execution_count": 2,
   "id": "31b48407-1425-44e5-b90c-f799bc257bb4",
   "metadata": {},
   "outputs": [],
   "source": [
    "df = pd.read_csv('jamb.csv')\n",
    "df.columns = df.columns.str.lower().str.replace(' ', '_')\n",
    "df = df.drop(columns=['student_id'])\n",
    "df = df.fillna(0)\n",
    "train_data, temp_data = train_test_split(df, test_size=0.4, random_state=1)\n",
    "val_data, test_data = train_test_split(temp_data, test_size=0.5, random_state=1)"
   ]
  },
  {
   "cell_type": "markdown",
   "id": "6a3c5779-3d86-44ba-9201-4c01cc48cacc",
   "metadata": {},
   "source": [
    "<h2>Вопрос 1: Какой признак используется для разбиения данных?</h2>"
   ]
  },
  {
   "cell_type": "code",
   "execution_count": 6,
   "id": "54851c81-775c-4956-a4df-1206c4b0fc52",
   "metadata": {},
   "outputs": [],
   "source": [
    "train_dicts = train_data.drop(columns=['jamb_score']).to_dict(orient='records')\n",
    "val_dicts = val_data.drop(columns=['jamb_score']).to_dict(orient='records')\n",
    "test_dicts = test_data.drop(columns=['jamb_score']).to_dict(orient='records')\n",
    "\n",
    "dv = DictVectorizer(sparse=True)\n",
    "\n",
    "X_train = dv.fit_transform(train_dicts)\n",
    "X_val = dv.transform(val_dicts)\n",
    "X_test = dv.transform(test_dicts)\n",
    "\n",
    "y_train = train_data['jamb_score'].values\n",
    "y_val = val_data['jamb_score'].values\n",
    "y_test = test_data['jamb_score'].values\n"
   ]
  },
  {
   "cell_type": "code",
   "execution_count": 7,
   "id": "c25887fb-5553-4f0e-a7da-0e11af63b94a",
   "metadata": {
    "collapsed": true,
    "jupyter": {
     "outputs_hidden": true
    },
    "scrolled": true
   },
   "outputs": [
    {
     "name": "stdout",
     "output_type": "stream",
     "text": [
      "RMSE на валидационной выборке: 44.85913145740971\n"
     ]
    },
    {
     "name": "stderr",
     "output_type": "stream",
     "text": [
      "E:\\labpycharm\\pythonProject3\\.venv\\Lib\\site-packages\\sklearn\\metrics\\_regression.py:492: FutureWarning: 'squared' is deprecated in version 1.4 and will be removed in 1.6. To calculate the root mean squared error, use the function'root_mean_squared_error'.\n",
      "  warnings.warn(\n"
     ]
    }
   ],
   "source": [
    "model = DecisionTreeRegressor(max_depth=1, random_state=1)\n",
    "model.fit(X_train, y_train)\n",
    "\n",
    "y_pred = model.predict(X_val)\n",
    "rmse = mean_squared_error(y_val, y_pred, squared=False)\n",
    "\n",
    "print(f\"RMSE на валидационной выборке: {rmse}\")\n"
   ]
  },
  {
   "cell_type": "markdown",
   "id": "caefc476-57dd-400f-8818-fdcd76f0a453",
   "metadata": {},
   "source": [
    "<p>Ответ: Study hours per week</p>"
   ]
  },
  {
   "cell_type": "markdown",
   "id": "6aaadeb5-44cd-4f13-a31e-613e81ae1a30",
   "metadata": {},
   "source": [
    "<h2>Вопрос 2: Какое значение RMSE у этой модели на валидационных данных?</h2>"
   ]
  },
  {
   "cell_type": "code",
   "execution_count": 5,
   "id": "ceca93b0-e706-4257-a186-7b3d48f87349",
   "metadata": {
    "collapsed": true,
    "jupyter": {
     "outputs_hidden": true
    },
    "scrolled": true
   },
   "outputs": [
    {
     "name": "stdout",
     "output_type": "stream",
     "text": [
      "RMSE случайного леса на валидационных данных: 43.16\n"
     ]
    },
    {
     "name": "stderr",
     "output_type": "stream",
     "text": [
      "E:\\labpycharm\\pythonProject3\\.venv\\Lib\\site-packages\\sklearn\\metrics\\_regression.py:492: FutureWarning: 'squared' is deprecated in version 1.4 and will be removed in 1.6. To calculate the root mean squared error, use the function'root_mean_squared_error'.\n",
      "  warnings.warn(\n"
     ]
    }
   ],
   "source": [
    "from sklearn.ensemble import RandomForestRegressor\n",
    "\n",
    "rf_model = RandomForestRegressor(n_estimators=10, random_state=1, n_jobs=-1)\n",
    "rf_model.fit(X_train, y_train)\n",
    "\n",
    "y_pred_rf = rf_model.predict(X_val)\n",
    "rmse_rf = mean_squared_error(y_val, y_pred_rf, squared=False)\n",
    "\n",
    "print(f\"RMSE случайного леса на валидационных данных: {rmse_rf:.2f}\")"
   ]
  },
  {
   "cell_type": "markdown",
   "id": "384e801b-b945-4235-a71b-b3af524ad9a3",
   "metadata": {},
   "source": [
    "<p>Ответ: 42.13</p>"
   ]
  },
  {
   "cell_type": "markdown",
   "id": "eb0a9bb6-1c36-406e-8cfd-1841826943b4",
   "metadata": {},
   "source": [
    "<h2>Вопрос 3: После какого значения n_estimators RMSE перестает улучшаться? </h2>\n",
    "<h2>Вопрос 4: Какое значение max_depth оказалось лучшим по среднему RMSE?</h2>"
   ]
  },
  {
   "cell_type": "code",
   "execution_count": 9,
   "id": "13a90bc7-51fe-4675-87d2-e0e06d0bde61",
   "metadata": {
    "collapsed": true,
    "jupyter": {
     "outputs_hidden": true
    },
    "scrolled": true
   },
   "outputs": [
    {
     "name": "stderr",
     "output_type": "stream",
     "text": [
      "E:\\labpycharm\\pythonProject3\\.venv\\Lib\\site-packages\\sklearn\\metrics\\_regression.py:492: FutureWarning: 'squared' is deprecated in version 1.4 and will be removed in 1.6. To calculate the root mean squared error, use the function'root_mean_squared_error'.\n",
      "  warnings.warn(\n",
      "E:\\labpycharm\\pythonProject3\\.venv\\Lib\\site-packages\\sklearn\\metrics\\_regression.py:492: FutureWarning: 'squared' is deprecated in version 1.4 and will be removed in 1.6. To calculate the root mean squared error, use the function'root_mean_squared_error'.\n",
      "  warnings.warn(\n",
      "E:\\labpycharm\\pythonProject3\\.venv\\Lib\\site-packages\\sklearn\\metrics\\_regression.py:492: FutureWarning: 'squared' is deprecated in version 1.4 and will be removed in 1.6. To calculate the root mean squared error, use the function'root_mean_squared_error'.\n",
      "  warnings.warn(\n",
      "E:\\labpycharm\\pythonProject3\\.venv\\Lib\\site-packages\\sklearn\\metrics\\_regression.py:492: FutureWarning: 'squared' is deprecated in version 1.4 and will be removed in 1.6. To calculate the root mean squared error, use the function'root_mean_squared_error'.\n",
      "  warnings.warn(\n",
      "E:\\labpycharm\\pythonProject3\\.venv\\Lib\\site-packages\\sklearn\\metrics\\_regression.py:492: FutureWarning: 'squared' is deprecated in version 1.4 and will be removed in 1.6. To calculate the root mean squared error, use the function'root_mean_squared_error'.\n",
      "  warnings.warn(\n",
      "E:\\labpycharm\\pythonProject3\\.venv\\Lib\\site-packages\\sklearn\\metrics\\_regression.py:492: FutureWarning: 'squared' is deprecated in version 1.4 and will be removed in 1.6. To calculate the root mean squared error, use the function'root_mean_squared_error'.\n",
      "  warnings.warn(\n",
      "E:\\labpycharm\\pythonProject3\\.venv\\Lib\\site-packages\\sklearn\\metrics\\_regression.py:492: FutureWarning: 'squared' is deprecated in version 1.4 and will be removed in 1.6. To calculate the root mean squared error, use the function'root_mean_squared_error'.\n",
      "  warnings.warn(\n",
      "E:\\labpycharm\\pythonProject3\\.venv\\Lib\\site-packages\\sklearn\\metrics\\_regression.py:492: FutureWarning: 'squared' is deprecated in version 1.4 and will be removed in 1.6. To calculate the root mean squared error, use the function'root_mean_squared_error'.\n",
      "  warnings.warn(\n",
      "E:\\labpycharm\\pythonProject3\\.venv\\Lib\\site-packages\\sklearn\\metrics\\_regression.py:492: FutureWarning: 'squared' is deprecated in version 1.4 and will be removed in 1.6. To calculate the root mean squared error, use the function'root_mean_squared_error'.\n",
      "  warnings.warn(\n",
      "E:\\labpycharm\\pythonProject3\\.venv\\Lib\\site-packages\\sklearn\\metrics\\_regression.py:492: FutureWarning: 'squared' is deprecated in version 1.4 and will be removed in 1.6. To calculate the root mean squared error, use the function'root_mean_squared_error'.\n",
      "  warnings.warn(\n",
      "E:\\labpycharm\\pythonProject3\\.venv\\Lib\\site-packages\\sklearn\\metrics\\_regression.py:492: FutureWarning: 'squared' is deprecated in version 1.4 and will be removed in 1.6. To calculate the root mean squared error, use the function'root_mean_squared_error'.\n",
      "  warnings.warn(\n",
      "E:\\labpycharm\\pythonProject3\\.venv\\Lib\\site-packages\\sklearn\\metrics\\_regression.py:492: FutureWarning: 'squared' is deprecated in version 1.4 and will be removed in 1.6. To calculate the root mean squared error, use the function'root_mean_squared_error'.\n",
      "  warnings.warn(\n",
      "E:\\labpycharm\\pythonProject3\\.venv\\Lib\\site-packages\\sklearn\\metrics\\_regression.py:492: FutureWarning: 'squared' is deprecated in version 1.4 and will be removed in 1.6. To calculate the root mean squared error, use the function'root_mean_squared_error'.\n",
      "  warnings.warn(\n",
      "E:\\labpycharm\\pythonProject3\\.venv\\Lib\\site-packages\\sklearn\\metrics\\_regression.py:492: FutureWarning: 'squared' is deprecated in version 1.4 and will be removed in 1.6. To calculate the root mean squared error, use the function'root_mean_squared_error'.\n",
      "  warnings.warn(\n",
      "E:\\labpycharm\\pythonProject3\\.venv\\Lib\\site-packages\\sklearn\\metrics\\_regression.py:492: FutureWarning: 'squared' is deprecated in version 1.4 and will be removed in 1.6. To calculate the root mean squared error, use the function'root_mean_squared_error'.\n",
      "  warnings.warn(\n",
      "E:\\labpycharm\\pythonProject3\\.venv\\Lib\\site-packages\\sklearn\\metrics\\_regression.py:492: FutureWarning: 'squared' is deprecated in version 1.4 and will be removed in 1.6. To calculate the root mean squared error, use the function'root_mean_squared_error'.\n",
      "  warnings.warn(\n",
      "E:\\labpycharm\\pythonProject3\\.venv\\Lib\\site-packages\\sklearn\\metrics\\_regression.py:492: FutureWarning: 'squared' is deprecated in version 1.4 and will be removed in 1.6. To calculate the root mean squared error, use the function'root_mean_squared_error'.\n",
      "  warnings.warn(\n",
      "E:\\labpycharm\\pythonProject3\\.venv\\Lib\\site-packages\\sklearn\\metrics\\_regression.py:492: FutureWarning: 'squared' is deprecated in version 1.4 and will be removed in 1.6. To calculate the root mean squared error, use the function'root_mean_squared_error'.\n",
      "  warnings.warn(\n",
      "E:\\labpycharm\\pythonProject3\\.venv\\Lib\\site-packages\\sklearn\\metrics\\_regression.py:492: FutureWarning: 'squared' is deprecated in version 1.4 and will be removed in 1.6. To calculate the root mean squared error, use the function'root_mean_squared_error'.\n",
      "  warnings.warn(\n",
      "E:\\labpycharm\\pythonProject3\\.venv\\Lib\\site-packages\\sklearn\\metrics\\_regression.py:492: FutureWarning: 'squared' is deprecated in version 1.4 and will be removed in 1.6. To calculate the root mean squared error, use the function'root_mean_squared_error'.\n",
      "  warnings.warn(\n"
     ]
    }
   ],
   "source": [
    "import numpy as np\n",
    "\n",
    "rmse_values = []\n",
    "n_estimators_range = range(10, 201, 10)\n",
    "\n",
    "for n in n_estimators_range:\n",
    "    rf_model = RandomForestRegressor(n_estimators=n, random_state=1, n_jobs=-1)\n",
    "    rf_model.fit(X_train, y_train)\n",
    "    y_pred_rf = rf_model.predict(X_val)\n",
    "    rmse = mean_squared_error(y_val, y_pred_rf, squared=False)\n",
    "    rmse_values.append(rmse)\n",
    "\n",
    "rmse_values = np.array(rmse_values)\n",
    "optimal_n_estimators = n_estimators_range[np.argmin(rmse_values)]"
   ]
  },
  {
   "cell_type": "code",
   "execution_count": 10,
   "id": "928a304a-6a49-4c46-aa4a-55dfe441794a",
   "metadata": {},
   "outputs": [
    {
     "name": "stdout",
     "output_type": "stream",
     "text": [
      "Оптимальное значение n_estimators: 180\n"
     ]
    }
   ],
   "source": [
    "print(f\"Оптимальное значение n_estimators: {optimal_n_estimators}\")"
   ]
  },
  {
   "cell_type": "markdown",
   "id": "d86e62e3-feb9-4f8d-a831-178129676efa",
   "metadata": {},
   "source": [
    "<p>Вопрос 3. Ответ: 200</p>\n",
    "<p>Вопрос 4. Ответ: 10</p>"
   ]
  },
  {
   "cell_type": "markdown",
   "id": "87424ccc-775b-486c-82f8-34406423e645",
   "metadata": {},
   "source": [
    "<h2>Вопрос 5. Какой признак оказался самым важным (из этих четырех)?</h2>"
   ]
  },
  {
   "cell_type": "code",
   "execution_count": 11,
   "id": "24eebbb9-6a2c-40b9-bc1c-d7652b6169d8",
   "metadata": {},
   "outputs": [
    {
     "name": "stdout",
     "output_type": "stream",
     "text": [
      "Самый важный признак: study_hours_per_week, Важность: 0.254\n"
     ]
    }
   ],
   "source": [
    "# Обучение случайного леса с указанными параметрами\n",
    "rf_model = RandomForestRegressor(n_estimators=10, max_depth=20, random_state=1, n_jobs=-1)\n",
    "rf_model.fit(X_train, y_train)\n",
    "\n",
    "# Получение важности признаков\n",
    "importances = rf_model.feature_importances_\n",
    "feature_names = dv.get_feature_names_out()\n",
    "\n",
    "# Находим самый важный признак\n",
    "important_features = sorted(zip(importances, feature_names), reverse=True)\n",
    "most_important_feature = important_features[0]\n",
    "\n",
    "print(f\"Самый важный признак: {most_important_feature[1]}, Важность: {most_important_feature[0]:.3f}\")"
   ]
  },
  {
   "cell_type": "markdown",
   "id": "3bdad064-f5f8-4e32-89e3-3e6d9f9b97ec",
   "metadata": {},
   "source": [
    "<p>Ответ: study_hours_per_week</p>"
   ]
  },
  {
   "cell_type": "markdown",
   "id": "6c1ce362-4ce0-46d7-999c-80f72eac5b64",
   "metadata": {},
   "source": [
    "<h2>Вопрос 6: Какое значение eta приводит к лучшему значению RMSE на валидационном наборе данных?</h2>"
   ]
  },
  {
   "cell_type": "code",
   "execution_count": 13,
   "id": "35a42f51-a835-4aab-99d7-eb7638a75d62",
   "metadata": {},
   "outputs": [
    {
     "name": "stdout",
     "output_type": "stream",
     "text": [
      "RMSE при eta=0.3: 40.688\n",
      "RMSE при eta=0.1: 40.166\n",
      "Лучшее значение eta: 0.1\n"
     ]
    }
   ],
   "source": [
    "import xgboost as xgb\n",
    "from xgboost import DMatrix\n",
    "\n",
    "dtrain = xgb.DMatrix(X_train, label=y_train)\n",
    "dval = xgb.DMatrix(X_val, label=y_val)\n",
    "\n",
    "watchlist = [(dtrain, 'train'), (dval, 'validation')]\n",
    "\n",
    "def train_xgb(eta):\n",
    "    xgb_params = {\n",
    "        'eta': eta,\n",
    "        'max_depth': 6,\n",
    "        'min_child_weight': 1,\n",
    "        'objective': 'reg:squarederror',\n",
    "        'nthread': 8,\n",
    "        'seed': 1,\n",
    "        'verbosity': 1,\n",
    "    }\n",
    "\n",
    "    model = xgb.train(params=xgb_params, dtrain=dtrain, num_boost_round=100, evals=watchlist, early_stopping_rounds=10, verbose_eval=False)\n",
    "    return model\n",
    "\n",
    "model_eta_03 = train_xgb(eta=0.3)\n",
    "model_eta_01 = train_xgb(eta=0.1)\n",
    "\n",
    "rmse_eta_03 = model_eta_03.best_score\n",
    "rmse_eta_01 = model_eta_01.best_score\n",
    "\n",
    "print(f\"RMSE при eta=0.3: {rmse_eta_03:.3f}\")\n",
    "print(f\"RMSE при eta=0.1: {rmse_eta_01:.3f}\")\n",
    "\n",
    "if rmse_eta_01 < rmse_eta_03:\n",
    "    print(\"Лучшее значение eta: 0.1\")\n",
    "elif rmse_eta_01 > rmse_eta_03:\n",
    "    print(\"Лучшее значение eta: 0.3\")\n",
    "else:\n",
    "    print(\"Оба значения eta дают одинаковый результат.\")"
   ]
  },
  {
   "cell_type": "markdown",
   "id": "0888b6cd-c660-4b2c-93ca-769835fe113b",
   "metadata": {},
   "source": [
    "<p>Ответ: 0,1</p>"
   ]
  },
  {
   "cell_type": "markdown",
   "id": "2f3bc33f-54df-4d4c-b2de-c37ac1856c22",
   "metadata": {},
   "source": [
    "<h2>Ответы</h2>"
   ]
  },
  {
   "cell_type": "markdown",
   "id": "da6ffb86-3cc8-4e6b-b79d-1638550e4c57",
   "metadata": {},
   "source": [
    "1. Study hours per week\n",
    "2. 42.13\n",
    "3. 200\n",
    "4. 10\n",
    "5. study_hours_per_week\n",
    "6. 0,1"
   ]
  },
  {
   "cell_type": "code",
   "execution_count": null,
   "id": "55e44838-00bf-410d-aaa5-d61830079eb0",
   "metadata": {},
   "outputs": [],
   "source": []
  }
 ],
 "metadata": {
  "kernelspec": {
   "display_name": "Python 3 (ipykernel)",
   "language": "python",
   "name": "python3"
  },
  "language_info": {
   "codemirror_mode": {
    "name": "ipython",
    "version": 3
   },
   "file_extension": ".py",
   "mimetype": "text/x-python",
   "name": "python",
   "nbconvert_exporter": "python",
   "pygments_lexer": "ipython3",
   "version": "3.12.1"
  }
 },
 "nbformat": 4,
 "nbformat_minor": 5
}
